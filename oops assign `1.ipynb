{
 "cells": [
  {
   "cell_type": "code",
   "execution_count": 2,
   "id": "954fb0f4-ce28-4a1b-898d-dead4820ee61",
   "metadata": {},
   "outputs": [
    {
     "name": "stdout",
     "output_type": "stream",
     "text": [
      "5\n",
      "3\n",
      "78.5\n",
      "28.26\n"
     ]
    }
   ],
   "source": [
    "#que 1 \n",
    "#In object-oriented programming (OOP), a class is a blueprint or template that defines the structure and behavior of objects. It serves as a blueprint for creating multiple instances of objects with similar characteristics and functionality. A class encapsulates data (attributes) and methods (functions) that operate on that data.\n",
    "\n",
    "#An object, on the other hand, is an instance of a class. It represents a specific entity or item created from a class blueprint. Objects have their own unique state (attribute values) and behavior (methods), which are defined by the class from which they are instantiated.\n",
    "\n",
    "\n",
    "#example\n",
    "class Circle:\n",
    "    def __init__(self, radius):\n",
    "        self.radius = radius\n",
    "\n",
    "    def calculate_area(self):\n",
    "        return 3.14 * self.radius**2\n",
    "\n",
    "\n",
    "# Creating objects (instances) of the Circle class\n",
    "circle1 = Circle(5)\n",
    "circle2 = Circle(3)\n",
    "\n",
    "# Accessing attributes and calling methods on objects\n",
    "print(circle1.radius)  \n",
    "print(circle2.radius)  \n",
    "\n",
    "area1 = circle1.calculate_area()\n",
    "area2 = circle2.calculate_area()\n",
    "print(area1)  \n",
    "print(area2)  \n"
   ]
  },
  {
   "cell_type": "code",
   "execution_count": 3,
   "id": "757e491b-570e-4652-a4dd-a03bb093a7e1",
   "metadata": {},
   "outputs": [],
   "source": [
    "#que 2\n",
    "#Encapsulation: Encapsulation is the concept of bundling data (attributes) and methods (functions) together within a class, hiding the internal implementation details from the outside world.\n",
    "\n",
    "#Inheritance: Inheritance is a mechanism that allows a class to inherit properties (attributes and methods) from another class.\n",
    "\n",
    "#Polymorphism: Polymorphism means the ability of an object to take on many forms. It allows objects of different classes to be treated as objects of a common superclass, providing a unified interface\n",
    "\n",
    "#Abstraction: Abstraction involves representing essential features of real-world objects as simplified models within the programming language"
   ]
  },
  {
   "cell_type": "code",
   "execution_count": 4,
   "id": "9b7ff9ee-fcba-420f-8a0d-2238914f0bb5",
   "metadata": {},
   "outputs": [],
   "source": [
    "#que 3\n",
    "#In object-oriented programming (OOP), self is a conventionally used parameter name that refers to the instance of the class itself. It is used as the first parameter in method definitions within a class. The purpose of self is to allow access to the instance attributes and methods within the class."
   ]
  },
  {
   "cell_type": "code",
   "execution_count": 5,
   "id": "1591e378-1727-4a00-a46b-ab64d06fb2c1",
   "metadata": {},
   "outputs": [
    {
     "name": "stdout",
     "output_type": "stream",
     "text": [
      "Eating...\n",
      "Barking...\n"
     ]
    }
   ],
   "source": [
    "#que4\n",
    "#Inheritance is a fundamental concept in object-oriented programming (OOP) that allows a class to inherit properties and behaviors from another class.\n",
    "\n",
    "\n",
    "#example of sinfle inheritance\n",
    "class Animal:\n",
    "    def eat(self):\n",
    "        print(\"Eating...\")\n",
    "\n",
    "class Dog(Animal):\n",
    "    def bark(self):\n",
    "        print(\"Barking...\")\n",
    "\n",
    "# Create an instance of the Dog class\n",
    "dog = Dog()\n",
    "dog.eat() \n",
    "dog.bark() \n",
    "\n",
    "\n",
    "#example of multi"
   ]
  },
  {
   "cell_type": "code",
   "execution_count": null,
   "id": "b47ceead-e610-4699-a131-ea7fce21f3f9",
   "metadata": {},
   "outputs": [],
   "source": []
  }
 ],
 "metadata": {
  "kernelspec": {
   "display_name": "Python 3 (ipykernel)",
   "language": "python",
   "name": "python3"
  },
  "language_info": {
   "codemirror_mode": {
    "name": "ipython",
    "version": 3
   },
   "file_extension": ".py",
   "mimetype": "text/x-python",
   "name": "python",
   "nbconvert_exporter": "python",
   "pygments_lexer": "ipython3",
   "version": "3.10.8"
  }
 },
 "nbformat": 4,
 "nbformat_minor": 5
}
